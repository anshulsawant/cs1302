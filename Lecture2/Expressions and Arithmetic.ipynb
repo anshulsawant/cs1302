{
  "cells": [
    {
      "cell_type": "markdown",
      "metadata": {
        "id": "view-in-github",
        "colab_type": "text"
      },
      "source": [
        "<a href=\"https://colab.research.google.com/github/anshulsawant/cs1302/blob/main/Lecture2/Expressions%20and%20Arithmetic.ipynb\" target=\"_parent\"><img src=\"https://colab.research.google.com/assets/colab-badge.svg\" alt=\"Open In Colab\"/></a>"
      ]
    },
    {
      "cell_type": "markdown",
      "metadata": {
        "id": "agutHo1Gla-H"
      },
      "source": [
        "# Expressions and Arithmetic"
      ]
    },
    {
      "cell_type": "markdown",
      "metadata": {
        "tags": [
          "remove-cell"
        ],
        "id": "3CuXqinDla-O"
      },
      "source": [
        "**CS1302 Introduction to Computer Programming**\n",
        "___"
      ]
    },
    {
      "cell_type": "markdown",
      "metadata": {
        "id": "vSwpa5kvla-P"
      },
      "source": [
        "## Operators"
      ]
    },
    {
      "cell_type": "markdown",
      "metadata": {
        "id": "fZv5cDGila-P"
      },
      "source": [
        "The followings are common operators you can use to form an expression in Python:"
      ]
    },
    {
      "cell_type": "markdown",
      "metadata": {
        "id": "Tl5G8sU8la-Q"
      },
      "source": [
        "| Operator  |   Operation    | Example |\n",
        "| --------: | :------------- | :-----: |\n",
        "| unary `-` | Negation       |  `-y`   |\n",
        "|       `+` | Addition       | `x + y` |\n",
        "|       `-` | Subtraction    | `x - y` |\n",
        "|       `*` | Multiplication |  `x*y`  |\n",
        "|       `/` | Division       |  `x/y`  |"
      ]
    },
    {
      "cell_type": "markdown",
      "metadata": {
        "id": "JJzq6DlNla-Q"
      },
      "source": [
        "- `x` and `y` in the examples are called the *left and right operands* respectively.\n",
        "- The first operator is a *unary operator*, which operates on just one operand.   \n",
        "    (`+` can also be used as a unary operator, but that is not useful.)\n",
        "- All other operators are *binary operators*, which operate on two operands."
      ]
    },
    {
      "cell_type": "markdown",
      "metadata": {
        "id": "U5tl8EuGla-R"
      },
      "source": [
        "Python also supports some more operators such as the followings:"
      ]
    },
    {
      "cell_type": "markdown",
      "metadata": {
        "id": "8iusXLYYla-R"
      },
      "source": [
        "| Operator |    Operation     | Example |\n",
        "| -------: | :--------------- | :-----: |\n",
        "|     `//` | Integer division | `x//y`  |\n",
        "|      `%` | Modulo           |  `x%y`  |\n",
        "|     `**` | Exponentiation   | `x**y`  |"
      ]
    },
    {
      "cell_type": "code",
      "execution_count": 1,
      "metadata": {
        "ExecuteTime": {
          "end_time": "2020-09-12T01:56:24.675900Z",
          "start_time": "2020-09-12T01:56:24.573989Z"
        },
        "code_folding": [
          0
        ],
        "id": "jd56GwZfla-S",
        "outputId": "1e13f989-dc33-4846-b52e-7daa4765ad30",
        "colab": {
          "base_uri": "https://localhost:8080/",
          "height": 167,
          "referenced_widgets": [
            "b219fabcbfe9432cbb8bd685def396d5",
            "8fb8496042d54dfca6cc8bbe95aa2747",
            "f546321923e04526b73f36722a24ac07",
            "3c1b062823bd401f8163decb9c53165f",
            "275499d7cce547c689fbc257bc7f582f",
            "1fd37e27f1f6499eb6569a3ce7fee9a8",
            "ad2c6f1e56db4bc9896965172584f676",
            "37ad814a30a54b6592544e8b298b00d6",
            "3212be801bb94d00b354b54b16d4e481",
            "7cc4dc0744394e99b69a409ae258790d",
            "cd19d1e499964a54b6edf0a61877a36d",
            "c084d117fb8642e08fcca7c6670ea72e",
            "74ff3de7ca4747feb66048df4327a6e6"
          ]
        }
      },
      "outputs": [
        {
          "output_type": "display_data",
          "data": {
            "text/plain": [
              "interactive(children=(Text(value='10', description='operand1'), Dropdown(description='operator', options={'+':…"
            ],
            "application/vnd.jupyter.widget-view+json": {
              "version_major": 2,
              "version_minor": 0,
              "model_id": "b219fabcbfe9432cbb8bd685def396d5"
            }
          },
          "metadata": {}
        }
      ],
      "source": [
        "# ipywidgets to demonstrate the operations of binary operators\n",
        "from ipywidgets import interact\n",
        "\n",
        "binary_operators = {\n",
        "    \"+\": \" + \",\n",
        "    \"-\": \" - \",\n",
        "    \"*\": \"*\",\n",
        "    \"/\": \"/\",\n",
        "    \"//\": \"//\",\n",
        "    \"%\": \"%\",\n",
        "    \"**\": \"**\",\n",
        "}\n",
        "\n",
        "\n",
        "@interact(operand1=r\"10\", operator=binary_operators, operand2=r\"3\")\n",
        "def binary_operation(operand1, operator, operand2):\n",
        "    expression = f\"{operand1}{operator}{operand2}\"\n",
        "    value = eval(expression)\n",
        "    print(\n",
        "        f\"\"\"{'Expression:':>11} {expression}\\n{'Value:':>11} {value}\\n{'Type:':>11} {type(value)}\"\"\"\n",
        "    )"
      ]
    },
    {
      "cell_type": "markdown",
      "metadata": {
        "id": "XTlkaec4la-W"
      },
      "source": [
        "**Exercise** What is the difference between `/` and `//`?"
      ]
    },
    {
      "cell_type": "markdown",
      "metadata": {
        "deletable": false,
        "nbgrader": {
          "cell_type": "markdown",
          "checksum": "bb9d7652c3d48ca53bba8eccf492ef05",
          "grade": true,
          "grade_id": "integer-division",
          "locked": false,
          "points": 0,
          "schema_version": 3,
          "solution": true,
          "task": false
        },
        "id": "Qcoo478Ila-X"
      },
      "source": [
        "YOUR ANSWER HERE"
      ]
    },
    {
      "cell_type": "markdown",
      "metadata": {
        "id": "i8nYM1iLla-Y"
      },
      "source": [
        "**What does the modulo operator `%` do?**"
      ]
    },
    {
      "cell_type": "markdown",
      "metadata": {
        "id": "Up_ChX0Ala-Y"
      },
      "source": [
        "You can think of it as computing the remainder, but the [truth](https://docs.python.org/3/reference/expressions.html#binary-arithmetic-operations) is more complicated than required for the course."
      ]
    },
    {
      "cell_type": "markdown",
      "metadata": {
        "tags": [],
        "id": "q-iauZhxla-Y"
      },
      "source": [
        "**Exercise** What does `'abc' * 3` mean? What about `10 * 'a'`?"
      ]
    },
    {
      "cell_type": "markdown",
      "metadata": {
        "deletable": false,
        "nbgrader": {
          "cell_type": "markdown",
          "checksum": "d4ecd125dcf08f5ba4320e8c1584b692",
          "grade": true,
          "grade_id": "concatenation",
          "locked": false,
          "points": 0,
          "schema_version": 3,
          "solution": true,
          "task": false
        },
        "id": "0Z0s8GnHla-Z"
      },
      "source": [
        "YOUR ANSWER HERE"
      ]
    },
    {
      "cell_type": "markdown",
      "metadata": {
        "id": "fI5PuNy8la-Z"
      },
      "source": [
        "**Exercise** How can you change the default operands (`10` and `3`) for different operators so that the overall expression has type `float`.  \n",
        "Do you need to change all the operands to `float`?"
      ]
    },
    {
      "cell_type": "markdown",
      "metadata": {
        "deletable": false,
        "nbgrader": {
          "cell_type": "markdown",
          "checksum": "c17c6d48f40d50c42237ef5705b4b0af",
          "grade": true,
          "grade_id": "mixed-type",
          "locked": false,
          "points": 0,
          "schema_version": 3,
          "solution": true,
          "task": false
        },
        "id": "As8qCnO5la-a"
      },
      "source": [
        "YOUR ANSWER HERE"
      ]
    },
    {
      "cell_type": "markdown",
      "metadata": {
        "id": "DB_pQbRtla-a"
      },
      "source": [
        "## Operator Precedence and Associativity"
      ]
    },
    {
      "cell_type": "markdown",
      "metadata": {
        "id": "3fBBnVxfla-a"
      },
      "source": [
        "An expression can consist of a sequence of operations performed in a row such as `x + y*z`."
      ]
    },
    {
      "cell_type": "markdown",
      "metadata": {
        "tags": [],
        "id": "txlJZFlbla-a"
      },
      "source": [
        "**How to determine which operation should be performed first?**"
      ]
    },
    {
      "cell_type": "markdown",
      "metadata": {
        "id": "Y8Sf9wDXla-b"
      },
      "source": [
        "Like arithmetics, the order of operations is decided based on the following rules applied sequentially:  \n",
        "1. *Grouping* by parentheses: inner grouping first\n",
        "1. Operator *precedence/priority*: higher precedence first\n",
        "1. Operator *associativity*:  \n",
        "    - Left associativity: left operand first\n",
        "    - Right associativity: right operand first"
      ]
    },
    {
      "cell_type": "markdown",
      "metadata": {
        "id": "e2PFfTXEla-b"
      },
      "source": [
        "**What are the operator precedence and associativity?**"
      ]
    },
    {
      "cell_type": "markdown",
      "metadata": {
        "id": "KFcjNOVrla-b"
      },
      "source": [
        "The following table gives a concise summary:"
      ]
    },
    {
      "cell_type": "markdown",
      "metadata": {
        "id": "0aqZeYj6la-b"
      },
      "source": [
        "|    Operators     | Associativity |\n",
        "| :--------------- | :-----------: |\n",
        "| `**`             |     right     |\n",
        "| `-` (unary)      |     right     |\n",
        "| `*`,`/`,`//`,`%` |     left      |\n",
        "| `+`,`-`          |     left      |"
      ]
    },
    {
      "cell_type": "markdown",
      "metadata": {
        "id": "Tm9rcHTDla-c"
      },
      "source": [
        "**Exercise** Play with the following widget to understand the precedence and associativity of different operators.  \n",
        "In particular, explain whether the expression `-10 ** 2*3` gives $(-10)^{2\\times 3}= 10^6 = 1000000$."
      ]
    },
    {
      "cell_type": "code",
      "execution_count": null,
      "metadata": {
        "ExecuteTime": {
          "end_time": "2020-09-12T02:41:21.545421Z",
          "start_time": "2020-09-12T02:41:21.484702Z"
        },
        "id": "QOWCwvg7la-c"
      },
      "outputs": [],
      "source": [
        "from ipywidgets import fixed\n",
        "\n",
        "\n",
        "@interact(\n",
        "    operator1={\"None\": \"\", \"unary -\": \"-\"},\n",
        "    operand1=fixed(r\"10\"),\n",
        "    operator2=binary_operators,\n",
        "    operand2=fixed(r\"2\"),\n",
        "    operator3=binary_operators,\n",
        "    operand3=fixed(r\"3\"),\n",
        ")\n",
        "def three_operators(operator1, operand1, operator2, operand2, operator3, operand3):\n",
        "    expression = f\"{operator1}{operand1}{operator2}{operand2}{operator3}{operand3}\"\n",
        "    value = eval(expression)\n",
        "    print(\n",
        "        f\"\"\"{'Expression:':>11} {expression}\\n{'Value:':>11} {value}\\n{'Type:':>11} {type(value)}\"\"\"\n",
        "    )"
      ]
    },
    {
      "cell_type": "markdown",
      "metadata": {
        "deletable": false,
        "nbgrader": {
          "cell_type": "markdown",
          "checksum": "0c0b37e572d736ec00ff80462a498e5c",
          "grade": true,
          "grade_id": "precedence",
          "locked": false,
          "points": 0,
          "schema_version": 3,
          "solution": true,
          "task": false
        },
        "id": "Pg2nA8hula-c"
      },
      "source": [
        "YOUR ANSWER HERE"
      ]
    },
    {
      "cell_type": "markdown",
      "metadata": {
        "id": "5W3kbfhtla-c"
      },
      "source": [
        "**Exercise** To avoid confusion in the order of operations, we should follow the [style guide](https://www.python.org/dev/peps/pep-0008/#other-recommendations) when writing expression.  \n",
        "What is the proper way to write `-10 ** 2*3`? "
      ]
    },
    {
      "cell_type": "code",
      "execution_count": null,
      "metadata": {
        "ExecuteTime": {
          "end_time": "2020-09-12T02:42:06.838771Z",
          "start_time": "2020-09-12T02:42:06.821964Z"
        },
        "deletable": false,
        "nbgrader": {
          "cell_type": "code",
          "checksum": "3fad0d373e4d4bd412aac80ff6e16a28",
          "grade": true,
          "grade_id": "pep8",
          "locked": false,
          "points": 0,
          "schema_version": 3,
          "solution": true,
          "task": false
        },
        "id": "lBU8FxiXla-d"
      },
      "outputs": [],
      "source": [
        "# YOUR CODE HERE\n",
        "raise NotImplementedError()"
      ]
    },
    {
      "cell_type": "markdown",
      "metadata": {
        "id": "kwagZlj5la-d"
      },
      "source": [
        "## Augmented Assignment Operators"
      ]
    },
    {
      "cell_type": "markdown",
      "metadata": {
        "id": "WoMa_Bfila-d"
      },
      "source": [
        "- For convenience, Python defines the [augmented assignment operators](https://docs.python.org/3/reference/simple_stmts.html#grammar-token-augmented-assignment-stmt) such as `+=`, where  \n",
        "- `x += 1` means `x = x + 1`."
      ]
    },
    {
      "cell_type": "markdown",
      "metadata": {
        "id": "FoGfz3Gwla-d"
      },
      "source": [
        "The following widgets demonstrate other augmented assignment operators."
      ]
    },
    {
      "cell_type": "code",
      "execution_count": null,
      "metadata": {
        "ExecuteTime": {
          "end_time": "2020-09-12T02:50:22.431213Z",
          "start_time": "2020-09-12T02:50:22.389022Z"
        },
        "id": "G5AH_wTQla-d"
      },
      "outputs": [],
      "source": [
        "from ipywidgets import fixed, interact\n",
        "\n",
        "\n",
        "@interact(\n",
        "    initial_value=fixed(r\"10\"),\n",
        "    operator=[\"+=\", \"-=\", \"*=\", \"/=\", \"//=\", \"%=\", \"**=\"],\n",
        "    operand=fixed(r\"2\"),\n",
        ")\n",
        "def binary_operation(initial_value, operator, operand):\n",
        "    assignment = f\"x = {initial_value}\\nx {operator} {operand}\"\n",
        "    _locals = {}\n",
        "    exec(assignment, None, _locals)\n",
        "    print(f\"Assignments:\\n{assignment:>10}\\nx: {_locals['x']} ({type(_locals['x'])})\")"
      ]
    },
    {
      "cell_type": "markdown",
      "metadata": {
        "id": "pY8nBxoNla-e"
      },
      "source": [
        "**Exercise** Can we create an expression using (augmented) assignment operators? Try running the code to see the effect."
      ]
    },
    {
      "cell_type": "code",
      "execution_count": null,
      "metadata": {
        "ExecuteTime": {
          "end_time": "2020-09-04T12:31:45.339984Z",
          "start_time": "2020-09-04T12:31:45.335881Z"
        },
        "id": "B913BR1Lla-e"
      },
      "outputs": [],
      "source": [
        "3*(x = 15)"
      ]
    },
    {
      "cell_type": "markdown",
      "metadata": {
        "deletable": false,
        "nbgrader": {
          "cell_type": "markdown",
          "checksum": "454a97bd9237b5f40285026dc7f4efcc",
          "grade": true,
          "grade_id": "assignment-statement",
          "locked": false,
          "points": 0,
          "schema_version": 3,
          "solution": true,
          "task": false
        },
        "id": "cUg1y6p4la-e"
      },
      "source": [
        "YOUR ANSWER HERE"
      ]
    },
    {
      "cell_type": "markdown",
      "metadata": {
        "tags": [],
        "id": "kmlmAGPrla-e"
      },
      "source": [
        "Starting Python 3.8, there is an [assignment expression](https://docs.python.org/3/whatsnew/3.8.html#assignment-expressions) using the operator `:=`."
      ]
    },
    {
      "cell_type": "code",
      "execution_count": null,
      "metadata": {
        "id": "8hG0rRySla-f"
      },
      "outputs": [],
      "source": [
        "y = 3*(x := 15)\n",
        "x, y"
      ]
    }
  ],
  "metadata": {
    "kernelspec": {
      "display_name": "Python 3 (ipykernel)",
      "language": "python",
      "name": "python3"
    },
    "language_info": {
      "codemirror_mode": {
        "name": "ipython",
        "version": 3
      },
      "file_extension": ".py",
      "mimetype": "text/x-python",
      "name": "python",
      "nbconvert_exporter": "python",
      "pygments_lexer": "ipython3",
      "version": "3.8.8"
    },
    "latex_envs": {
      "LaTeX_envs_menu_present": true,
      "autoclose": false,
      "autocomplete": true,
      "bibliofile": "biblio.bib",
      "cite_by": "apalike",
      "current_citInitial": 1,
      "eqLabelWithNumbers": true,
      "eqNumInitial": 1,
      "hotkeys": {
        "equation": "Ctrl-E",
        "itemize": "Ctrl-I"
      },
      "labels_anchors": false,
      "latex_user_defs": false,
      "report_style_numbering": false,
      "user_envs_cfg": false
    },
    "rise": {
      "enable_chalkboard": true,
      "scroll": true,
      "theme": "white"
    },
    "toc": {
      "base_numbering": 1,
      "nav_menu": {
        "height": "195px",
        "width": "330px"
      },
      "number_sections": true,
      "sideBar": true,
      "skip_h1_title": true,
      "title_cell": "Table of Contents",
      "title_sidebar": "Contents",
      "toc_cell": false,
      "toc_position": {
        "height": "454.418px",
        "left": "1533px",
        "top": "110.284px",
        "width": "435.327px"
      },
      "toc_section_display": true,
      "toc_window_display": false
    },
    "widgets": {
      "application/vnd.jupyter.widget-state+json": {
        "b219fabcbfe9432cbb8bd685def396d5": {
          "model_module": "@jupyter-widgets/controls",
          "model_name": "VBoxModel",
          "model_module_version": "1.5.0",
          "state": {
            "_dom_classes": [
              "widget-interact"
            ],
            "_model_module": "@jupyter-widgets/controls",
            "_model_module_version": "1.5.0",
            "_model_name": "VBoxModel",
            "_view_count": null,
            "_view_module": "@jupyter-widgets/controls",
            "_view_module_version": "1.5.0",
            "_view_name": "VBoxView",
            "box_style": "",
            "children": [
              "IPY_MODEL_8fb8496042d54dfca6cc8bbe95aa2747",
              "IPY_MODEL_f546321923e04526b73f36722a24ac07",
              "IPY_MODEL_3c1b062823bd401f8163decb9c53165f",
              "IPY_MODEL_275499d7cce547c689fbc257bc7f582f"
            ],
            "layout": "IPY_MODEL_1fd37e27f1f6499eb6569a3ce7fee9a8"
          }
        },
        "8fb8496042d54dfca6cc8bbe95aa2747": {
          "model_module": "@jupyter-widgets/controls",
          "model_name": "TextModel",
          "model_module_version": "1.5.0",
          "state": {
            "_dom_classes": [],
            "_model_module": "@jupyter-widgets/controls",
            "_model_module_version": "1.5.0",
            "_model_name": "TextModel",
            "_view_count": null,
            "_view_module": "@jupyter-widgets/controls",
            "_view_module_version": "1.5.0",
            "_view_name": "TextView",
            "continuous_update": true,
            "description": "operand1",
            "description_tooltip": null,
            "disabled": false,
            "layout": "IPY_MODEL_ad2c6f1e56db4bc9896965172584f676",
            "placeholder": "​",
            "style": "IPY_MODEL_37ad814a30a54b6592544e8b298b00d6",
            "value": "10"
          }
        },
        "f546321923e04526b73f36722a24ac07": {
          "model_module": "@jupyter-widgets/controls",
          "model_name": "DropdownModel",
          "model_module_version": "1.5.0",
          "state": {
            "_dom_classes": [],
            "_model_module": "@jupyter-widgets/controls",
            "_model_module_version": "1.5.0",
            "_model_name": "DropdownModel",
            "_options_labels": [
              "+",
              "-",
              "*",
              "/",
              "//",
              "%",
              "**"
            ],
            "_view_count": null,
            "_view_module": "@jupyter-widgets/controls",
            "_view_module_version": "1.5.0",
            "_view_name": "DropdownView",
            "description": "operator",
            "description_tooltip": null,
            "disabled": false,
            "index": 0,
            "layout": "IPY_MODEL_3212be801bb94d00b354b54b16d4e481",
            "style": "IPY_MODEL_7cc4dc0744394e99b69a409ae258790d"
          }
        },
        "3c1b062823bd401f8163decb9c53165f": {
          "model_module": "@jupyter-widgets/controls",
          "model_name": "TextModel",
          "model_module_version": "1.5.0",
          "state": {
            "_dom_classes": [],
            "_model_module": "@jupyter-widgets/controls",
            "_model_module_version": "1.5.0",
            "_model_name": "TextModel",
            "_view_count": null,
            "_view_module": "@jupyter-widgets/controls",
            "_view_module_version": "1.5.0",
            "_view_name": "TextView",
            "continuous_update": true,
            "description": "operand2",
            "description_tooltip": null,
            "disabled": false,
            "layout": "IPY_MODEL_cd19d1e499964a54b6edf0a61877a36d",
            "placeholder": "​",
            "style": "IPY_MODEL_c084d117fb8642e08fcca7c6670ea72e",
            "value": "3"
          }
        },
        "275499d7cce547c689fbc257bc7f582f": {
          "model_module": "@jupyter-widgets/output",
          "model_name": "OutputModel",
          "model_module_version": "1.0.0",
          "state": {
            "_dom_classes": [],
            "_model_module": "@jupyter-widgets/output",
            "_model_module_version": "1.0.0",
            "_model_name": "OutputModel",
            "_view_count": null,
            "_view_module": "@jupyter-widgets/output",
            "_view_module_version": "1.0.0",
            "_view_name": "OutputView",
            "layout": "IPY_MODEL_74ff3de7ca4747feb66048df4327a6e6",
            "msg_id": "",
            "outputs": [
              {
                "output_type": "stream",
                "name": "stdout",
                "text": [
                  "Expression: 10 + 3\n",
                  "     Value: 13\n",
                  "      Type: <class 'int'>\n"
                ]
              }
            ]
          }
        },
        "1fd37e27f1f6499eb6569a3ce7fee9a8": {
          "model_module": "@jupyter-widgets/base",
          "model_name": "LayoutModel",
          "model_module_version": "1.2.0",
          "state": {
            "_model_module": "@jupyter-widgets/base",
            "_model_module_version": "1.2.0",
            "_model_name": "LayoutModel",
            "_view_count": null,
            "_view_module": "@jupyter-widgets/base",
            "_view_module_version": "1.2.0",
            "_view_name": "LayoutView",
            "align_content": null,
            "align_items": null,
            "align_self": null,
            "border": null,
            "bottom": null,
            "display": null,
            "flex": null,
            "flex_flow": null,
            "grid_area": null,
            "grid_auto_columns": null,
            "grid_auto_flow": null,
            "grid_auto_rows": null,
            "grid_column": null,
            "grid_gap": null,
            "grid_row": null,
            "grid_template_areas": null,
            "grid_template_columns": null,
            "grid_template_rows": null,
            "height": null,
            "justify_content": null,
            "justify_items": null,
            "left": null,
            "margin": null,
            "max_height": null,
            "max_width": null,
            "min_height": null,
            "min_width": null,
            "object_fit": null,
            "object_position": null,
            "order": null,
            "overflow": null,
            "overflow_x": null,
            "overflow_y": null,
            "padding": null,
            "right": null,
            "top": null,
            "visibility": null,
            "width": null
          }
        },
        "ad2c6f1e56db4bc9896965172584f676": {
          "model_module": "@jupyter-widgets/base",
          "model_name": "LayoutModel",
          "model_module_version": "1.2.0",
          "state": {
            "_model_module": "@jupyter-widgets/base",
            "_model_module_version": "1.2.0",
            "_model_name": "LayoutModel",
            "_view_count": null,
            "_view_module": "@jupyter-widgets/base",
            "_view_module_version": "1.2.0",
            "_view_name": "LayoutView",
            "align_content": null,
            "align_items": null,
            "align_self": null,
            "border": null,
            "bottom": null,
            "display": null,
            "flex": null,
            "flex_flow": null,
            "grid_area": null,
            "grid_auto_columns": null,
            "grid_auto_flow": null,
            "grid_auto_rows": null,
            "grid_column": null,
            "grid_gap": null,
            "grid_row": null,
            "grid_template_areas": null,
            "grid_template_columns": null,
            "grid_template_rows": null,
            "height": null,
            "justify_content": null,
            "justify_items": null,
            "left": null,
            "margin": null,
            "max_height": null,
            "max_width": null,
            "min_height": null,
            "min_width": null,
            "object_fit": null,
            "object_position": null,
            "order": null,
            "overflow": null,
            "overflow_x": null,
            "overflow_y": null,
            "padding": null,
            "right": null,
            "top": null,
            "visibility": null,
            "width": null
          }
        },
        "37ad814a30a54b6592544e8b298b00d6": {
          "model_module": "@jupyter-widgets/controls",
          "model_name": "DescriptionStyleModel",
          "model_module_version": "1.5.0",
          "state": {
            "_model_module": "@jupyter-widgets/controls",
            "_model_module_version": "1.5.0",
            "_model_name": "DescriptionStyleModel",
            "_view_count": null,
            "_view_module": "@jupyter-widgets/base",
            "_view_module_version": "1.2.0",
            "_view_name": "StyleView",
            "description_width": ""
          }
        },
        "3212be801bb94d00b354b54b16d4e481": {
          "model_module": "@jupyter-widgets/base",
          "model_name": "LayoutModel",
          "model_module_version": "1.2.0",
          "state": {
            "_model_module": "@jupyter-widgets/base",
            "_model_module_version": "1.2.0",
            "_model_name": "LayoutModel",
            "_view_count": null,
            "_view_module": "@jupyter-widgets/base",
            "_view_module_version": "1.2.0",
            "_view_name": "LayoutView",
            "align_content": null,
            "align_items": null,
            "align_self": null,
            "border": null,
            "bottom": null,
            "display": null,
            "flex": null,
            "flex_flow": null,
            "grid_area": null,
            "grid_auto_columns": null,
            "grid_auto_flow": null,
            "grid_auto_rows": null,
            "grid_column": null,
            "grid_gap": null,
            "grid_row": null,
            "grid_template_areas": null,
            "grid_template_columns": null,
            "grid_template_rows": null,
            "height": null,
            "justify_content": null,
            "justify_items": null,
            "left": null,
            "margin": null,
            "max_height": null,
            "max_width": null,
            "min_height": null,
            "min_width": null,
            "object_fit": null,
            "object_position": null,
            "order": null,
            "overflow": null,
            "overflow_x": null,
            "overflow_y": null,
            "padding": null,
            "right": null,
            "top": null,
            "visibility": null,
            "width": null
          }
        },
        "7cc4dc0744394e99b69a409ae258790d": {
          "model_module": "@jupyter-widgets/controls",
          "model_name": "DescriptionStyleModel",
          "model_module_version": "1.5.0",
          "state": {
            "_model_module": "@jupyter-widgets/controls",
            "_model_module_version": "1.5.0",
            "_model_name": "DescriptionStyleModel",
            "_view_count": null,
            "_view_module": "@jupyter-widgets/base",
            "_view_module_version": "1.2.0",
            "_view_name": "StyleView",
            "description_width": ""
          }
        },
        "cd19d1e499964a54b6edf0a61877a36d": {
          "model_module": "@jupyter-widgets/base",
          "model_name": "LayoutModel",
          "model_module_version": "1.2.0",
          "state": {
            "_model_module": "@jupyter-widgets/base",
            "_model_module_version": "1.2.0",
            "_model_name": "LayoutModel",
            "_view_count": null,
            "_view_module": "@jupyter-widgets/base",
            "_view_module_version": "1.2.0",
            "_view_name": "LayoutView",
            "align_content": null,
            "align_items": null,
            "align_self": null,
            "border": null,
            "bottom": null,
            "display": null,
            "flex": null,
            "flex_flow": null,
            "grid_area": null,
            "grid_auto_columns": null,
            "grid_auto_flow": null,
            "grid_auto_rows": null,
            "grid_column": null,
            "grid_gap": null,
            "grid_row": null,
            "grid_template_areas": null,
            "grid_template_columns": null,
            "grid_template_rows": null,
            "height": null,
            "justify_content": null,
            "justify_items": null,
            "left": null,
            "margin": null,
            "max_height": null,
            "max_width": null,
            "min_height": null,
            "min_width": null,
            "object_fit": null,
            "object_position": null,
            "order": null,
            "overflow": null,
            "overflow_x": null,
            "overflow_y": null,
            "padding": null,
            "right": null,
            "top": null,
            "visibility": null,
            "width": null
          }
        },
        "c084d117fb8642e08fcca7c6670ea72e": {
          "model_module": "@jupyter-widgets/controls",
          "model_name": "DescriptionStyleModel",
          "model_module_version": "1.5.0",
          "state": {
            "_model_module": "@jupyter-widgets/controls",
            "_model_module_version": "1.5.0",
            "_model_name": "DescriptionStyleModel",
            "_view_count": null,
            "_view_module": "@jupyter-widgets/base",
            "_view_module_version": "1.2.0",
            "_view_name": "StyleView",
            "description_width": ""
          }
        },
        "74ff3de7ca4747feb66048df4327a6e6": {
          "model_module": "@jupyter-widgets/base",
          "model_name": "LayoutModel",
          "model_module_version": "1.2.0",
          "state": {
            "_model_module": "@jupyter-widgets/base",
            "_model_module_version": "1.2.0",
            "_model_name": "LayoutModel",
            "_view_count": null,
            "_view_module": "@jupyter-widgets/base",
            "_view_module_version": "1.2.0",
            "_view_name": "LayoutView",
            "align_content": null,
            "align_items": null,
            "align_self": null,
            "border": null,
            "bottom": null,
            "display": null,
            "flex": null,
            "flex_flow": null,
            "grid_area": null,
            "grid_auto_columns": null,
            "grid_auto_flow": null,
            "grid_auto_rows": null,
            "grid_column": null,
            "grid_gap": null,
            "grid_row": null,
            "grid_template_areas": null,
            "grid_template_columns": null,
            "grid_template_rows": null,
            "height": null,
            "justify_content": null,
            "justify_items": null,
            "left": null,
            "margin": null,
            "max_height": null,
            "max_width": null,
            "min_height": null,
            "min_width": null,
            "object_fit": null,
            "object_position": null,
            "order": null,
            "overflow": null,
            "overflow_x": null,
            "overflow_y": null,
            "padding": null,
            "right": null,
            "top": null,
            "visibility": null,
            "width": null
          }
        }
      }
    },
    "colab": {
      "provenance": [],
      "include_colab_link": true
    }
  },
  "nbformat": 4,
  "nbformat_minor": 0
}